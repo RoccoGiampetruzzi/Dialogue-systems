{
 "cells": [
  {
   "cell_type": "markdown",
   "metadata": {},
   "source": [
    "# Dialogue System"
   ]
  },
  {
   "cell_type": "code",
   "execution_count": 1,
   "metadata": {},
   "outputs": [
    {
     "name": "stderr",
     "output_type": "stream",
     "text": [
      "/opt/anaconda3/envs/designai/lib/python3.12/site-packages/tqdm/auto.py:21: TqdmWarning: IProgress not found. Please update jupyter and ipywidgets. See https://ipywidgets.readthedocs.io/en/stable/user_install.html\n",
      "  from .autonotebook import tqdm as notebook_tqdm\n"
     ]
    }
   ],
   "source": [
    "import json\n",
    "import pandas as pd\n",
    "import numpy as np\n",
    "import spacy\n",
    "import re\n",
    "from datasets import load_dataset\n",
    "from sklearn.metrics.pairwise import cosine_similarity \n",
    "from gensim.models import Word2Vec\n",
    "from nltk.tokenize import word_tokenize\n",
    "import gensim.downloader as api\n",
    "from gensim.utils import simple_preprocess\n",
    "from gensim.models import KeyedVectors\n",
    "from utils import * \n"
   ]
  },
  {
   "cell_type": "markdown",
   "metadata": {},
   "source": [
    "## Dataframe Preparation"
   ]
  },
  {
   "cell_type": "code",
   "execution_count": null,
   "metadata": {},
   "outputs": [],
   "source": [
    "# Load MultiWOZ 2.2 dataset\n",
    "dataset = load_dataset(\"multi_woz_v22\")\n",
    "\n",
    "print(dataset[\"train\"][0])"
   ]
  },
  {
   "cell_type": "code",
   "execution_count": null,
   "metadata": {},
   "outputs": [],
   "source": [
    "total_categories = list(set(element for sublist in dataset['train']['services'] for element in sublist))\n",
    "\n",
    "print(total_categories)"
   ]
  },
  {
   "cell_type": "code",
   "execution_count": null,
   "metadata": {},
   "outputs": [],
   "source": [
    "filename_base = \"_db.txt\"\n",
    "\n",
    "# Open the file in write mode and save the strings\n",
    "for category in total_categories:\n",
    "    filename = '' + category + filename_base\n",
    "    df = []\n",
    "    for dialogue in dataset['train']:\n",
    "        if category in dialogue['services']:\n",
    "            for i in range(0, len(dialogue['turns']['speaker'])//2, 2):\n",
    "                pair = (dialogue['turns']['utterance'][i], dialogue['turns']['utterance'][i+1])\n",
    "                df.append(pair)\n",
    "    df = pd.DataFrame(df, columns=[\"question\", \"answer\"])\n",
    "    csv_file_path = \"data/\" + category + \".csv\"\n",
    "    df.to_csv(csv_file_path, index=False)"
   ]
  },
  {
   "cell_type": "code",
   "execution_count": null,
   "metadata": {},
   "outputs": [],
   "source": [
    "all_df = {}\n",
    "\n",
    "for df_name in total_categories:\n",
    "    all_df[df_name] = pd.read_csv(f\"data/{df_name}.csv\")\n",
    "\n",
    "for df_name, df in all_df.items():\n",
    "    \n",
    "    df.to_csv(f\"word2vec_data/{df_name}.csv\", index=False)\n",
    "    np.save(f\"word2vec_data/{df_name}_embeddings.npy\", np.vstack(df['question'].apply(embed_sentence_util)))\n",
    "    print(f\"Saved {df_name}.csv\")"
   ]
  },
  {
   "cell_type": "markdown",
   "metadata": {},
   "source": [
    "## Chat with MarioBot"
   ]
  },
  {
   "cell_type": "code",
   "execution_count": 2,
   "metadata": {},
   "outputs": [
    {
     "name": "stdout",
     "output_type": "stream",
     "text": [
      "Building Spacy\n",
      "Building Word2Vec\n"
     ]
    }
   ],
   "source": [
    "from chatbot import ChatBot\n",
    "\n",
    "# import and initialize MarioBot\n",
    "\n",
    "chatbot = ChatBot()"
   ]
  },
  {
   "cell_type": "code",
   "execution_count": 4,
   "metadata": {},
   "outputs": [
    {
     "name": "stdout",
     "output_type": "stream",
     "text": [
      "MarioBot: Hi, my name is MarioBot, I am a chatbot. I am here to help you with any questions you may have regarding: train, hospital, hotel, bus, restaurant, taxi, attraction.\n",
      "Please ask me a question:\n",
      "\n",
      "User: Goodbye\n",
      "\n",
      "MarioBot: Bye Bye\n"
     ]
    }
   ],
   "source": [
    "# run this cell to chat with MarioBot\n",
    "# write goodbye or just press enter to exit the chat\n",
    "\n",
    "chatbot.get_dialogue()"
   ]
  }
 ],
 "metadata": {
  "kernelspec": {
   "display_name": "designai",
   "language": "python",
   "name": "python3"
  },
  "language_info": {
   "codemirror_mode": {
    "name": "ipython",
    "version": 3
   },
   "file_extension": ".py",
   "mimetype": "text/x-python",
   "name": "python",
   "nbconvert_exporter": "python",
   "pygments_lexer": "ipython3",
   "version": "3.12.9"
  }
 },
 "nbformat": 4,
 "nbformat_minor": 2
}
